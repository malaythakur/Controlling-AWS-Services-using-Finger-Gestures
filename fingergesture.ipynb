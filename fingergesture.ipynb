{
 "cells": [
  {
   "cell_type": "code",
   "execution_count": 6,
   "id": "9d2be6f6",
   "metadata": {},
   "outputs": [],
   "source": [
    "import cv2"
   ]
  },
  {
   "cell_type": "code",
   "execution_count": 11,
   "id": "d16bc01a",
   "metadata": {},
   "outputs": [],
   "source": [
    "cap = cv2.VideoCapture(0)"
   ]
  },
  {
   "cell_type": "code",
   "execution_count": 12,
   "id": "52cf11e2",
   "metadata": {},
   "outputs": [],
   "source": []
  },
  {
   "cell_type": "code",
   "execution_count": 13,
   "id": "03b7510b",
   "metadata": {},
   "outputs": [
    {
     "data": {
      "text/plain": [
       "True"
      ]
     },
     "execution_count": 13,
     "metadata": {},
     "output_type": "execute_result"
    }
   ],
   "source": [
    "status"
   ]
  },
  {
   "cell_type": "code",
   "execution_count": 14,
   "id": "5481c96a",
   "metadata": {},
   "outputs": [
    {
     "data": {
      "text/plain": [
       "True"
      ]
     },
     "execution_count": 14,
     "metadata": {},
     "output_type": "execute_result"
    }
   ],
   "source": [
    "#save the photo\n",
    "cv2.imwrite(\"malay.jpg\" , photo)"
   ]
  },
  {
   "cell_type": "code",
   "execution_count": 15,
   "id": "648a8cce",
   "metadata": {},
   "outputs": [],
   "source": [
    "#show the pic,from python code\n",
    "cv2.imshow(\"my photo\" , photo)\n",
    "cv2.waitKey(5000)\n",
    "cv2.destroyAllWindows()"
   ]
  },
  {
   "cell_type": "code",
   "execution_count": null,
   "id": "945e1fd7",
   "metadata": {},
   "outputs": [],
   "source": []
  },
  {
   "cell_type": "code",
   "execution_count": null,
   "id": "492a85b2",
   "metadata": {},
   "outputs": [],
   "source": []
  },
  {
   "cell_type": "code",
   "execution_count": null,
   "id": "6eeb14b1",
   "metadata": {},
   "outputs": [],
   "source": []
  },
  {
   "cell_type": "code",
   "execution_count": null,
   "id": "c83d0ba3",
   "metadata": {},
   "outputs": [],
   "source": []
  },
  {
   "cell_type": "code",
   "execution_count": 16,
   "id": "b587c817",
   "metadata": {},
   "outputs": [],
   "source": [
    "# AI TO CV"
   ]
  },
  {
   "cell_type": "code",
   "execution_count": 17,
   "id": "cae5db85",
   "metadata": {},
   "outputs": [
    {
     "ename": "SyntaxError",
     "evalue": "invalid syntax (990665430.py, line 2)",
     "output_type": "error",
     "traceback": [
      "\u001b[1;36m  Cell \u001b[1;32mIn[17], line 2\u001b[1;36m\u001b[0m\n\u001b[1;33m    pip install cvzone\u001b[0m\n\u001b[1;37m        ^\u001b[0m\n\u001b[1;31mSyntaxError\u001b[0m\u001b[1;31m:\u001b[0m invalid syntax\n"
     ]
    }
   ],
   "source": [
    "\"\"\"lIBRARY USED \n",
    "pip install cvzone \n",
    "pip install mediapipe\n",
    "\"\"\""
   ]
  },
  {
   "cell_type": "code",
   "execution_count": 4,
   "id": "dd2cc7bb",
   "metadata": {},
   "outputs": [
    {
     "name": "stderr",
     "output_type": "stream",
     "text": [
      "Matplotlib is building the font cache; this may take a moment.\n"
     ]
    }
   ],
   "source": []
  },
  {
   "cell_type": "code",
   "execution_count": 7,
   "id": "132cf435",
   "metadata": {},
   "outputs": [],
   "source": []
  },
  {
   "cell_type": "code",
   "execution_count": 15,
   "id": "8bc2d6a0",
   "metadata": {},
   "outputs": [],
   "source": [
    "import os"
   ]
  },
  {
   "cell_type": "code",
   "execution_count": 70,
   "id": "506d1e9a",
   "metadata": {},
   "outputs": [],
   "source": [
    "import cv2"
   ]
  },
  {
   "cell_type": "code",
   "execution_count": 71,
   "id": "8c1d0ba7",
   "metadata": {},
   "outputs": [],
   "source": [
    "import webbrowser"
   ]
  },
  {
   "cell_type": "code",
   "execution_count": null,
   "id": "ea7232a9",
   "metadata": {},
   "outputs": [],
   "source": [
    "import os\n",
    "import cv2\n",
    "from cvzone.HandTrackingModule import HandDetector\n",
    "\n",
    "cap = cv2.VideoCapture( 0 )\n",
    "\n",
    "# click photo\n",
    "status , photo = cap.read()\n",
    "\n",
    "detector = HandDetector()\n",
    "\n",
    "# show the pic, from python code\n",
    "cv2.imshow(\"my photo\" , photo)\n",
    "cv2.waitKey()\n",
    "cv2.destroyAllWindows()\n",
    "\n",
    "\n",
    "handphoto = detector.findHands(photo , draw=False)\n",
    "lmlist = handphoto[0]\n",
    "fingerstatus = detector.fingersUp(lmlist)\n",
    "\n",
    "\n",
    "\n",
    "if fingerstatus == [1,1,1,1,1]:\n",
    "    print(\"all up\")\n",
    "    os.system(\"chrome\")\n",
    "\n",
    "elif fingerstatus == [ 0 ,1 ,0 , 0, 0]:\n",
    "    print(\"index finget up\")\n",
    "    os.system(\"chrome https://www.google.com/search?q=vimal+daga\")\n",
    "    \n",
    "elif fingerstatus == [ 0 , 1, 1, 0 , 0 ]:\n",
    "    print(\"index and middle finger up\")\n",
    "    os.system(\"notepad\") \n",
    "else:\n",
    "    print(\"idk\")"
   ]
  },
  {
   "cell_type": "code",
   "execution_count": 43,
   "id": "e5c0a397",
   "metadata": {},
   "outputs": [],
   "source": [
    "from cvzone.HandTrackingModule import HandDetector"
   ]
  },
  {
   "cell_type": "code",
   "execution_count": 72,
   "id": "2c96b35b",
   "metadata": {},
   "outputs": [],
   "source": [
    "cap = cv2.VideoCapture(0)"
   ]
  },
  {
   "cell_type": "code",
   "execution_count": 73,
   "id": "4c9ab795",
   "metadata": {},
   "outputs": [],
   "source": [
    "#click photo\n",
    "status, photo = cap.read()"
   ]
  },
  {
   "cell_type": "code",
   "execution_count": 74,
   "id": "f7123077",
   "metadata": {},
   "outputs": [],
   "source": [
    "detector = HandDetector()"
   ]
  },
  {
   "cell_type": "code",
   "execution_count": 75,
   "id": "de11615c",
   "metadata": {},
   "outputs": [],
   "source": [
    "cv2.imshow(\"myphoto\", photo)\n",
    "cv2.waitKey(5000)\n",
    "cv2.destroyAllWindows()"
   ]
  },
  {
   "cell_type": "code",
   "execution_count": null,
   "id": "bbddc83e",
   "metadata": {},
   "outputs": [],
   "source": []
  },
  {
   "cell_type": "code",
   "execution_count": null,
   "id": "ccad3633",
   "metadata": {},
   "outputs": [],
   "source": []
  },
  {
   "cell_type": "code",
   "execution_count": 76,
   "id": "01072790",
   "metadata": {},
   "outputs": [],
   "source": [
    "handphoto = detector.findHands(photo , draw=False)"
   ]
  },
  {
   "cell_type": "code",
   "execution_count": 77,
   "id": "54078538",
   "metadata": {},
   "outputs": [],
   "source": [
    "lmlist = handphoto[0]"
   ]
  },
  {
   "cell_type": "code",
   "execution_count": 78,
   "id": "5b17f0d1",
   "metadata": {},
   "outputs": [],
   "source": [
    "fingerstatus = detector.fingersUp(lmlist)"
   ]
  },
  {
   "cell_type": "code",
   "execution_count": 79,
   "id": "02fcf663",
   "metadata": {},
   "outputs": [
    {
     "name": "stdout",
     "output_type": "stream",
     "text": [
      "index finger up\n"
     ]
    }
   ],
   "source": [
    "if fingerstatus == [1,1,1,1,1]:\n",
    "    print(\"all up\")\n",
    "    os.system(\"chrome\")\n",
    "\n",
    "elif fingerstatus == [0,1,0,0,0]:\n",
    "    webbrowser.open(\"https://www.google.com/search?q=malay+thakur\")\n",
    "    print(\"index finger up\")\n",
    "    \n",
    "    \n",
    "elif fingerstatus == [0,1,1,0,0]:\n",
    "    print(\"Index and Middle finger up\")\n",
    "    os.system(\"notepad\")\n",
    "else:\n",
    "    print(\"idk\")"
   ]
  },
  {
   "cell_type": "code",
   "execution_count": null,
   "id": "2e0d6a5b",
   "metadata": {},
   "outputs": [],
   "source": []
  }
 ],
 "metadata": {
  "kernelspec": {
   "display_name": "Python 3 (ipykernel)",
   "language": "python",
   "name": "python3"
  },
  "language_info": {
   "codemirror_mode": {
    "name": "ipython",
    "version": 3
   },
   "file_extension": ".py",
   "mimetype": "text/x-python",
   "name": "python",
   "nbconvert_exporter": "python",
   "pygments_lexer": "ipython3",
   "version": "3.11.3"
  }
 },
 "nbformat": 4,
 "nbformat_minor": 5
}
