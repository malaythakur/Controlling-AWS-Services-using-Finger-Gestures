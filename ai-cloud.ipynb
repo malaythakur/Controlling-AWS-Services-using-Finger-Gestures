{
 "cells": [
  {
   "cell_type": "code",
   "execution_count": 24,
   "id": "9b877d4c",
   "metadata": {},
   "outputs": [],
   "source": [
    "import boto3"
   ]
  },
  {
   "cell_type": "code",
   "execution_count": 25,
   "id": "c1650d36",
   "metadata": {},
   "outputs": [],
   "source": [
    "myec2 = boto3.resource(\"ec2\")"
   ]
  },
  {
   "cell_type": "code",
   "execution_count": 26,
   "id": "5930ff59",
   "metadata": {},
   "outputs": [],
   "source": [
    "def launchOS():\n",
    "    response = myec2.create_instances(ImageId = \"ami-0da59f1af71ea4ad2\", \n",
    "                                      InstanceType = \"t2.micro\",\n",
    "                                      MaxCount = 1, MinCount = 1)"
   ]
  },
  {
   "cell_type": "code",
   "execution_count": 27,
   "id": "4b36732f",
   "metadata": {},
   "outputs": [],
   "source": [
    "import cv2"
   ]
  },
  {
   "cell_type": "code",
   "execution_count": 28,
   "id": "2dc04bcd",
   "metadata": {},
   "outputs": [],
   "source": [
    "cap = cv2.VideoCapture(0)"
   ]
  },
  {
   "cell_type": "code",
   "execution_count": 29,
   "id": "0b2e1f96",
   "metadata": {},
   "outputs": [],
   "source": [
    "from cvzone.HandTrackingModule import HandDetector"
   ]
  },
  {
   "cell_type": "code",
   "execution_count": 30,
   "id": "35069db8",
   "metadata": {},
   "outputs": [],
   "source": [
    "detector = HandDetector()"
   ]
  },
  {
   "cell_type": "code",
   "execution_count": 31,
   "id": "bd4c800b",
   "metadata": {},
   "outputs": [
    {
     "name": "stdout",
     "output_type": "stream",
     "text": [
      "idk\n",
      "index finger up\n",
      "index finger up\n",
      "idk\n",
      "idk\n",
      "idk\n",
      "idk\n",
      "idk\n",
      "idk\n",
      "idk\n",
      "idk\n",
      "idk\n",
      "idk\n",
      "idk\n",
      "idk\n",
      "idk\n",
      "index and middle finger up\n",
      "index and middle finger up\n",
      "index and middle finger up\n",
      "index and middle finger up\n"
     ]
    }
   ],
   "source": [
    "while True: \n",
    "    status, photo = cap.read()\n",
    "    cv2.imshow(\"myphoto\" , photo)\n",
    "    if cv2.waitKey(100) == 13:\n",
    "        break\n",
    "        \n",
    "    handphoto = detector.findHands(photo, draw = False)\n",
    "    \n",
    "    if handphoto:\n",
    "        lmlist = handphoto[0]\n",
    "        fingerstatus = detector.fingersUp(lmlist)\n",
    "        \n",
    "        if fingerstatus == [1,1,1,1,1]:\n",
    "            print(\"all up\")\n",
    "            launchOS()\n",
    "            launchOS()\n",
    "            launchOS()\n",
    "            launchOS()\n",
    "            launchOS()\n",
    "\n",
    "        elif fingerstatus == [ 0 ,1 ,0 , 0, 0]:\n",
    "            print(\"index finger up\")\n",
    "            launchOS()\n",
    "    \n",
    "        elif fingerstatus == [ 0 , 1, 1, 0 , 0 ]:\n",
    "            print(\"index and middle finger up\")\n",
    "            launchOS()\n",
    "            launchOS()\n",
    "        else:\n",
    "            print(\"idk\")\n"
   ]
  },
  {
   "cell_type": "code",
   "execution_count": 32,
   "id": "4f686920",
   "metadata": {},
   "outputs": [],
   "source": [
    "cv2.destroyAllWindows()\n"
   ]
  },
  {
   "cell_type": "code",
   "execution_count": 33,
   "id": "9d6f55e2",
   "metadata": {},
   "outputs": [],
   "source": [
    "cap.release()"
   ]
  },
  {
   "cell_type": "code",
   "execution_count": null,
   "id": "5dfa9514",
   "metadata": {},
   "outputs": [],
   "source": []
  }
 ],
 "metadata": {
  "kernelspec": {
   "display_name": "Python 3 (ipykernel)",
   "language": "python",
   "name": "python3"
  },
  "language_info": {
   "codemirror_mode": {
    "name": "ipython",
    "version": 3
   },
   "file_extension": ".py",
   "mimetype": "text/x-python",
   "name": "python",
   "nbconvert_exporter": "python",
   "pygments_lexer": "ipython3",
   "version": "3.11.3"
  }
 },
 "nbformat": 4,
 "nbformat_minor": 5
}
